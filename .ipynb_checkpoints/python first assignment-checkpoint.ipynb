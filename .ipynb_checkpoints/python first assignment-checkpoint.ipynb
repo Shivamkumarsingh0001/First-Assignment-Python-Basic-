{
 "cells": [
  {
   "cell_type": "code",
   "execution_count": 6,
   "id": "9ead4ad8-cb71-4827-a586-0ae56fa592a7",
   "metadata": {},
   "outputs": [
    {
     "data": {
      "text/plain": [
       "'Ans --> Python is a high-level, general purpose programing language known for its readability and simplicity. There are many feature of python language like- Easy to Learn, Free and Open Source, Easy to Code, Object-Oriented Language, Databases Support etc.'"
      ]
     },
     "execution_count": 6,
     "metadata": {},
     "output_type": "execute_result"
    }
   ],
   "source": [
    "#Question 1 --> Explain the key feature of Python that make it a popualr choice of programing.\n",
    "'''Ans --> Python is a high-level, general purpose programing language known for its readability and simplicity. There are many feature of python language like- Easy to Learn, Free and Open Source, Easy to Code, Object-Oriented Language, Databases Support etc.'''"
   ]
  },
  {
   "cell_type": "code",
   "execution_count": 7,
   "id": "feb05259-356f-4746-9840-11e7a3774bb9",
   "metadata": {},
   "outputs": [
    {
     "data": {
      "text/plain": [
       "'Ans --> Keywords in Python are predefined words, that are not to be used as any others kind of identifier like for example, variable nanmes or functions names. These keywords are a part of syntax in the language with a special meaning associated with them. They play a major role in Python code by defining its structurte and logic.'"
      ]
     },
     "execution_count": 7,
     "metadata": {},
     "output_type": "execute_result"
    }
   ],
   "source": [
    "#Question 2 --> Describe the role of predifined keywords in Python and provide examples of how they are used in a program.\n",
    "'''Ans --> Keywords in Python are predefined words, that are not to be used as any others kind of identifier like for example, variable nanmes or functions names. These keywords are a part of syntax in the language with a special meaning associated with them. They play a major role in Python code by defining its structurte and logic.'''"
   ]
  },
  {
   "cell_type": "code",
   "execution_count": 5,
   "id": "012394d9-764b-4d13-b267-cb72088a2626",
   "metadata": {},
   "outputs": [
    {
     "name": "stdout",
     "output_type": "stream",
     "text": [
      "shivam\n"
     ]
    }
   ],
   "source": [
    "print (\"shivam\")\n",
    "\n",
    "#example of predefined keywords in python."
   ]
  },
  {
   "cell_type": "code",
   "execution_count": 8,
   "id": "88e347a0-c111-4dd7-bb92-205e622d111c",
   "metadata": {},
   "outputs": [
    {
     "data": {
      "text/plain": [
       "'Ans --> The difference between immutable and mutable object in Python is that a mutable object is one whose internal state is changeable. \\nOn the contrary, once and immutable object in Python has been created, we cannot change it in anyway.\\nEx- List, Sets are mutable data and Numbers, Strings are immutable data.'"
      ]
     },
     "execution_count": 8,
     "metadata": {},
     "output_type": "execute_result"
    }
   ],
   "source": [
    "#Question 3 -->Compare and contrast mutable and immutable objects in Python with examples.\n",
    "'''Ans --> The difference between immutable and mutable object in Python is that a mutable object is one whose internal state is changeable. \n",
    "On the contrary, once and immutable object in Python has been created, we cannot change it in anyway.\n",
    "Ex- List, Sets are mutable data and Numbers, Strings are immutable data.'''"
   ]
  },
  {
   "cell_type": "code",
   "execution_count": 1,
   "id": "0dda3b86-46a8-4651-b041-96763843633f",
   "metadata": {},
   "outputs": [
    {
     "data": {
      "text/plain": [
       "[1, 2, 'Shivam', 'Varanasi', 'Pwskill']"
      ]
     },
     "execution_count": 1,
     "metadata": {},
     "output_type": "execute_result"
    }
   ],
   "source": [
    "a = [1, 2, 'Shivam', 33, 'Pwskill']\n",
    "a [3] = \"Varanasi\"\n",
    "a\n",
    "#here value 33 is changed to Varanasi."
   ]
  },
  {
   "cell_type": "code",
   "execution_count": 9,
   "id": "c961c9a0-7831-46aa-a212-4096c66a1d60",
   "metadata": {},
   "outputs": [
    {
     "data": {
      "text/plain": [
       "'Ans --> Operators are special symbols that are used to perform computation. Computation is performed on the operands. Operands can be values or variables.\\nConsider the expression 5 + 7 = 12. Here, 5 and 7 are called operands and + is called operators.\\nPython language supports various types of operators, which are: Arithmatic Operators, Assignment Operator, Logical Operators, Comparison Operator, Bitwise Operator, Identity Operator, Membership Operator.'"
      ]
     },
     "execution_count": 9,
     "metadata": {},
     "output_type": "execute_result"
    }
   ],
   "source": [
    "#Question 4 --> Discuss the different types of operators in Python and provide examples of how they are used.\n",
    "'''Ans --> Operators are special symbols that are used to perform computation. Computation is performed on the operands. Operands can be values or variables.\n",
    "Consider the expression 5 + 7 = 12. Here, 5 and 7 are called operands and + is called operators.\n",
    "Python language supports various types of operators, which are: Arithmatic Operators, Assignment Operator, Logical Operators, Comparison Operator, Bitwise Operator, Identity Operator, Membership Operator.'''"
   ]
  },
  {
   "cell_type": "code",
   "execution_count": 4,
   "id": "a4f1d023-f54d-4c29-9a82-cf3d3f2ac916",
   "metadata": {},
   "outputs": [
    {
     "name": "stdout",
     "output_type": "stream",
     "text": [
      "True\n"
     ]
    }
   ],
   "source": [
    "y = [5, 6, 7, 8]\n",
    "z = y\n",
    "print (y is z)\n",
    "\n",
    "#example of Identity Operator."
   ]
  },
  {
   "cell_type": "code",
   "execution_count": 10,
   "id": "634b2759-b898-422c-9630-1d7179a08721",
   "metadata": {},
   "outputs": [
    {
     "data": {
      "text/plain": [
       "'Ans --> Typecasting in Python allows programmers to convert variables a data from one dats type to another. It enables smooth manipulation of data. \\nTypecasting in Python can be very useful in dealing with large data sets where the data is present in diffrent data types.\\nPython offers two ways to perform typecasting: Implicit type conversion and Explicit type conversion.'"
      ]
     },
     "execution_count": 10,
     "metadata": {},
     "output_type": "execute_result"
    }
   ],
   "source": [
    "#Question 5 --> Explain the concept of type casting in Python with example.\n",
    "'''Ans --> Typecasting in Python allows programmers to convert variables a data from one dats type to another. It enables smooth manipulation of data. \n",
    "Typecasting in Python can be very useful in dealing with large data sets where the data is present in diffrent data types.\n",
    "Python offers two ways to perform typecasting: Implicit type conversion and Explicit type conversion.'''"
   ]
  },
  {
   "cell_type": "code",
   "execution_count": 12,
   "id": "b9fd0157-32d2-4723-bdd0-42fdab161256",
   "metadata": {},
   "outputs": [
    {
     "name": "stdout",
     "output_type": "stream",
     "text": [
      "20.0\n"
     ]
    }
   ],
   "source": [
    "num_int = 20\n",
    "num_float = float(num_int)\n",
    "print(num_float)\n",
    "\n",
    "#example of integer to float"
   ]
  },
  {
   "cell_type": "code",
   "execution_count": 15,
   "id": "8c2e278b-2ac6-47bf-a9a2-6f351e3e155f",
   "metadata": {},
   "outputs": [
    {
     "name": "stdout",
     "output_type": "stream",
     "text": [
      "25\n"
     ]
    }
   ],
   "source": [
    "num_float = 25.77\n",
    "num_int = int(num_float)\n",
    "print(num_int)\n",
    "\n",
    "#example of float to integer"
   ]
  },
  {
   "cell_type": "code",
   "execution_count": 19,
   "id": "15e8fcc5-124d-4a69-a159-f77010c82c11",
   "metadata": {},
   "outputs": [
    {
     "data": {
      "text/plain": [
       "\"Ans --> Python's conditional statements carry out various calcuations or operations according to whether a particular Boolean condition is evaluated as True or False. \\nThe primary conditional statements in Python are if, elif and else.\""
      ]
     },
     "execution_count": 19,
     "metadata": {},
     "output_type": "execute_result"
    }
   ],
   "source": [
    "#Question 6 --> How do conditional statements work in Python? Illustrate with examples.\n",
    "'''Ans --> Python's conditional statements carry out various calcuations or operations according to whether a particular Boolean condition is evaluated as True or False. The primary conditional statements in Python are if, elif and else.'''"
   ]
  },
  {
   "cell_type": "code",
   "execution_count": 23,
   "id": "4f3cef83-5c51-4c03-8ffb-1b845bdb64be",
   "metadata": {},
   "outputs": [
    {
     "name": "stdout",
     "output_type": "stream",
     "text": [
      "You are an adult.\n"
     ]
    }
   ],
   "source": [
    "age = 18\n",
    "if age >= 18:\n",
    "    print(\"You are an adult.\")\n",
    "    \n",
    "#example of The if statement.    "
   ]
  },
  {
   "cell_type": "code",
   "execution_count": 25,
   "id": "87ed7295-03f3-4c64-b271-f1b129eb3ab0",
   "metadata": {},
   "outputs": [
    {
     "name": "stdout",
     "output_type": "stream",
     "text": [
      "You are a teenager\n"
     ]
    }
   ],
   "source": [
    "age = 15\n",
    "if age >= 15:\n",
    "    print(\"You are a teenager\")\n",
    "\n",
    "#wxample of The elif statement."
   ]
  },
  {
   "cell_type": "code",
   "execution_count": 29,
   "id": "d1c18bd3-c85f-4bdc-8e12-b43848c6dcce",
   "metadata": {},
   "outputs": [
    {
     "data": {
      "text/plain": [
       "\"Ans --> Loops are important in Python or in any other programming language as they help you to execute a block of code repeatedly. You will often come face to face with situations where you would need to use a piece of code over and over but you don't to write the same line of code multiple times.\\nPython programming language provides following types of loops to handle looping requirements:-\\n1: While Loop: Repeats a statement or group of statements while a given condition is TRUE. It tests the condition before executing the loop body.\\n2: for Loop: Executes a sequence of statements multiple times and abbreviates the code that manages the loop variable.\\n3: Nested Loops: You can use one are more loop inside any another while, for or do.. while loop.\""
      ]
     },
     "execution_count": 29,
     "metadata": {},
     "output_type": "execute_result"
    }
   ],
   "source": [
    "#Question 7 --> Describe the different types of loops in Python and their use cases with examples.\n",
    "'''Ans --> Loops are important in Python or in any other programming language as they help you to execute a block of code repeatedly. You will often come face to face with situations where you would need to use a piece of code over and over but you don't to write the same line of code multiple times.\n",
    "Python programming language provides following types of loops to handle looping requirements:-\n",
    "1: While Loop: Repeats a statement or group of statements while a given condition is TRUE. It tests the condition before executing the loop body.\n",
    "2: for Loop: Executes a sequence of statements multiple times and abbreviates the code that manages the loop variable.\n",
    "3: Nested Loops: You can use one are more loop inside any another while, for or do.. while loop.'''"
   ]
  },
  {
   "cell_type": "code",
   "execution_count": 32,
   "id": "be95f65a-f2d2-40d8-960f-4bc6ecda276d",
   "metadata": {},
   "outputs": [
    {
     "name": "stdout",
     "output_type": "stream",
     "text": [
      "1\n",
      "2\n",
      "3\n",
      "4\n",
      "5\n",
      "6\n"
     ]
    }
   ],
   "source": [
    "count = 1\n",
    "while count <=6:\n",
    "    print (count)\n",
    "    count += 1\n",
    "    \n",
    "#example of While Loop."
   ]
  },
  {
   "cell_type": "code",
   "execution_count": 34,
   "id": "b0a40f91-3da3-4ee3-96af-f9a14442080f",
   "metadata": {},
   "outputs": [
    {
     "name": "stdout",
     "output_type": "stream",
     "text": [
      "Orange\n",
      "Banana\n",
      "Apple\n",
      "Pineapple\n"
     ]
    }
   ],
   "source": [
    "fruits = ['Orange', 'Banana', 'Apple', 'Pineapple']\n",
    "for fruit in fruits:\n",
    "    print (fruit)\n",
    "    \n",
    "#wxample of for loop."
   ]
  },
  {
   "cell_type": "code",
   "execution_count": 37,
   "id": "fa15d9c1-59bc-4bbb-a42e-aae42d81d9c1",
   "metadata": {},
   "outputs": [
    {
     "name": "stdout",
     "output_type": "stream",
     "text": [
      "(0, 0) \n",
      "(0, 1) \n",
      "(0, 2) \n",
      "(1, 0) \n",
      "(1, 1) \n",
      "(1, 2) \n",
      "(2, 0) \n",
      "(2, 1) \n",
      "(2, 2) \n"
     ]
    }
   ],
   "source": [
    "for j in range(3):\n",
    "    for k in range(3):\n",
    "        print (f\"({j}, {k})\", end=\" \")\n",
    "        print ()\n",
    "        \n",
    "#wxample of Nested Loop."
   ]
  },
  {
   "cell_type": "code",
   "execution_count": null,
   "id": "90fae3cd-08fb-44b8-90ea-c59f03a39909",
   "metadata": {},
   "outputs": [],
   "source": []
  }
 ],
 "metadata": {
  "kernelspec": {
   "display_name": "Python 3 (ipykernel)",
   "language": "python",
   "name": "python3"
  },
  "language_info": {
   "codemirror_mode": {
    "name": "ipython",
    "version": 3
   },
   "file_extension": ".py",
   "mimetype": "text/x-python",
   "name": "python",
   "nbconvert_exporter": "python",
   "pygments_lexer": "ipython3",
   "version": "3.10.8"
  }
 },
 "nbformat": 4,
 "nbformat_minor": 5
}
